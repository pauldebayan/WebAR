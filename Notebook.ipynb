{
 "cells": [
  {
   "cell_type": "markdown",
   "metadata": {},
   "source": [
    "WebGL - ThreeJS<br/>\n",
    "\n",
    "We can easily place a ThreeJS object on top of a video feed, but we want to position the object as per the video input - solution - **\"Tracking\"**"
   ]
  },
  {
   "cell_type": "markdown",
   "metadata": {},
   "source": []
  }
 ],
 "metadata": {
  "language_info": {
   "name": "python"
  }
 },
 "nbformat": 4,
 "nbformat_minor": 2
}
