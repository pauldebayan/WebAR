{
 "cells": [
  {
   "cell_type": "markdown",
   "metadata": {},
   "source": [
    "WebGL - ThreeJS<br/>\n",
    "\n",
    "We can easily place a ThreeJS object on top of a video feed, but we want to position the object as per the video input - solution - **\"Tracking\"**"
   ]
  },
  {
   "cell_type": "markdown",
   "metadata": {},
   "source": [
    "For Tracking - we need to update camera position and rotation:<br/>\n",
    "1. Image Tracking AR: Virtual objects appear on top of target images<br/>\n",
    "2. Face Tracking AR<br/>\n",
    "3. World Tracking AR<br/>\n",
    "4. Location based AR<br/>\n",
    "5. 3D Object Tracking, Hand Tracking\n",
    "\n"
   ]
  },
  {
   "cell_type": "markdown",
   "metadata": {},
   "source": [
    "A AR Libraray does only one thing - it estimates the pose of the virtual camera according to what you want to track."
   ]
  },
  {
   "cell_type": "markdown",
   "metadata": {},
   "source": [
    "Continuously(while (true)) update - camera.position and camera.rotation<br/>\n",
    "We would like to keep the camera untouched at the center but move the scene around.<br/>\n",
    "\n",
    "Moving the camera left by 1 unit will produce same result as moving the scene right by 1 unit so -<br/>\n",
    "\n",
    "cube.position, cube.rotation and not camera.position, camera.rotation<br/>\n",
    "\n",
    "[MindAR](https://hiukim.github.io/mind-ar-js-doc/tools/compile) <br/>"
   ]
  },
  {
   "cell_type": "markdown",
   "metadata": {},
   "source": []
  }
 ],
 "metadata": {
  "language_info": {
   "name": "python"
  }
 },
 "nbformat": 4,
 "nbformat_minor": 2
}
